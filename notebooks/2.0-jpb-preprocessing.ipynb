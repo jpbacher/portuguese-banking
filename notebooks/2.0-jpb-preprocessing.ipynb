{
 "cells": [
  {
   "cell_type": "code",
   "execution_count": 1,
   "metadata": {},
   "outputs": [],
   "source": [
    "import sys\n",
    "import os\n",
    "from os.path import join\n",
    "import numpy as np\n",
    "import pandas as pd\n",
    "import matplotlib.pyplot as plt\n",
    "import seaborn as sns\n",
    "from sklearn.model_selection import train_test_split\n",
    "\n",
    "import warnings\n",
    "warnings.simplefilter(action='ignore')\n",
    "\n",
    "PROJ_ROOT = os.pardir\n",
    "data_dir = join(PROJ_ROOT, 'data')\n",
    "\n",
    "pd.pandas.set_option('display.max_columns', None)"
   ]
  },
  {
   "cell_type": "code",
   "execution_count": 2,
   "metadata": {},
   "outputs": [],
   "source": [
    "bank_data = join(PROJ_ROOT, 'data', 'bank-additional-full.csv')\n",
    "bank_data = pd.read_csv(bank_data, sep=';')"
   ]
  },
  {
   "cell_type": "code",
   "execution_count": 3,
   "metadata": {},
   "outputs": [],
   "source": [
    "# convert 'unkonwn' to np.nan\n",
    "bank_data.replace('unknown', np.nan, inplace=True)\n",
    "\n",
    "# drop duration, should not be used for a predictive model\n",
    "bank_data.drop('duration', axis=1, inplace=True)\n",
    "\n",
    "# convert response to 0 & 1's\n",
    "bank_data['y'].replace({'no': 0, 'yes': 1}, inplace=True)"
   ]
  },
  {
   "cell_type": "code",
   "execution_count": 4,
   "metadata": {},
   "outputs": [],
   "source": [
    "bank_train, bank_val, response_train, response_val = train_test_split(\n",
    "    bank_data, bank_data['y'], test_size=0.2, random_state=12, stratify=bank_data['y'])"
   ]
  },
  {
   "cell_type": "markdown",
   "metadata": {},
   "source": [
    "## Missing Values\n",
    "\n",
    "We will make new labels for 'missing' on the two features, *default* and *education* - these features displayed some predictive power in the visualizations in the previous notebook. "
   ]
  },
  {
   "cell_type": "code",
   "execution_count": 5,
   "metadata": {},
   "outputs": [],
   "source": [
    "# make new labels\n",
    "bank_train[['default', 'education']] = bank_train[['default', 'education']].fillna('Missing')\n",
    "bank_val[['default', 'education']] = bank_val[['default', 'education']].fillna('Missing')"
   ]
  },
  {
   "cell_type": "code",
   "execution_count": 6,
   "metadata": {},
   "outputs": [],
   "source": [
    "# drop data points w/ very little missing\n",
    "bank_train = bank_train.dropna(subset=['job', 'marital'])\n",
    "bank_val = bank_val.dropna(subset=['job', 'marital'])"
   ]
  },
  {
   "cell_type": "markdown",
   "metadata": {},
   "source": [
    "## Nonpredictive variables\n",
    "\n",
    "*Loan* and *housing* did not provide any signal; therefore, we will discard these features. "
   ]
  },
  {
   "cell_type": "code",
   "execution_count": 7,
   "metadata": {},
   "outputs": [],
   "source": [
    "bank_train.drop(['loan', 'housing'], axis=1, inplace=True)\n",
    "bank_val.drop(['loan', 'housing'], axis=1, inplace=True)"
   ]
  },
  {
   "cell_type": "code",
   "execution_count": 8,
   "metadata": {},
   "outputs": [
    {
     "name": "stdout",
     "output_type": "stream",
     "text": [
      "[]\n",
      "[]\n"
     ]
    }
   ],
   "source": [
    "# sanity check\n",
    "print([feat for feat in bank_train.columns if bank_train[feat].isnull().sum() > 0])\n",
    "print([feat for feat in bank_val.columns if bank_val[feat].isnull().sum() > 0])"
   ]
  },
  {
   "cell_type": "markdown",
   "metadata": {},
   "source": [
    "## Engineer *pdays* feature"
   ]
  },
  {
   "cell_type": "code",
   "execution_count": 9,
   "metadata": {},
   "outputs": [],
   "source": [
    "bank_train['prev_contact'] = bank_train['pdays'].apply(lambda row: 'no' if row == 999 else 'yes')\n",
    "bank_val['prev_contact'] = bank_val['pdays'].apply(lambda row: 'no' if row == 999 else 'yes')\n",
    "\n",
    "# drop original pdays, was just noise\n",
    "bank_train.drop('pdays', axis=1, inplace=True)\n",
    "bank_val.drop('pdays', axis=1, inplace=True)"
   ]
  },
  {
   "cell_type": "markdown",
   "metadata": {},
   "source": [
    "### Rare Labels\n",
    "\n",
    "We will remove rare instances from *education* (14) and *default* (3) that account for less than 0.005% of all other instances' categories.  "
   ]
  },
  {
   "cell_type": "code",
   "execution_count": 10,
   "metadata": {},
   "outputs": [],
   "source": [
    "bank_train = bank_train[~bank_train['education'].str.contains('illiterate')]\n",
    "bank_val = bank_val[~bank_val['education'].str.contains('illiterate')]\n",
    "\n",
    "bank_train = bank_train[~bank_train['default'].str.contains('yes')]\n",
    "bank_val = bank_val[~bank_val['default'].str.contains('yes')]"
   ]
  },
  {
   "cell_type": "code",
   "execution_count": 13,
   "metadata": {},
   "outputs": [],
   "source": [
    "# save cleaned & processed data for model selection\n",
    "bank_train_data_clean = join(PROJ_ROOT, 'data', 'bank_train_clean.csv')\n",
    "bank_train.to_csv(bank_train_data_clean, index=False)\n",
    "\n",
    "bank_val_data_clean = join(PROJ_ROOT, 'data', 'bank_val_clean.csv')\n",
    "bank_val.to_csv(bank_val_data_clean, index=False)"
   ]
  },
  {
   "cell_type": "code",
   "execution_count": null,
   "metadata": {},
   "outputs": [],
   "source": []
  }
 ],
 "metadata": {
  "kernelspec": {
   "display_name": "Python 3",
   "language": "python",
   "name": "python3"
  },
  "language_info": {
   "codemirror_mode": {
    "name": "ipython",
    "version": 3
   },
   "file_extension": ".py",
   "mimetype": "text/x-python",
   "name": "python",
   "nbconvert_exporter": "python",
   "pygments_lexer": "ipython3",
   "version": "3.7.4"
  }
 },
 "nbformat": 4,
 "nbformat_minor": 2
}
